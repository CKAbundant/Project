{
 "cells": [
  {
   "cell_type": "markdown",
   "id": "37c90380",
   "metadata": {},
   "source": [
    "# **Machine Learning Assignment** \n",
    "***\n",
    "> Submitted by: &emsp;**Aw Chong Kiang (22034803)** <br>\n",
    "Date: &emsp;&emsp;&emsp;&emsp;&ensp;**19 Jun 2022**"
   ]
  },
  {
   "cell_type": "markdown",
   "id": "09bc1d83",
   "metadata": {},
   "source": [
    "## Objective: Classify age of abalone from physical measurements\n",
    "<img src=\"https://archive.ics.uci.edu/ml/assets/MLimages/Large1.jpg\" width=\"200\" height=\"200\">\n",
    "Reference: Dua, D. and Graff, C. (2019). UCI Machine Learning Repository [http://archive.ics.uci.edu/ml]. Irvine, CA: University of California, School of Information and Computer Science."
   ]
  },
  {
   "cell_type": "markdown",
   "id": "fd2d09ba",
   "metadata": {},
   "source": [
    "## Introduction\n",
    "\n",
    "We will be using the [Abalone Data Set](https://archive.ics.uci.edu/ml/datasets/Abalone) from UCI Machine Learning Repository:\n",
    "\n",
    "1. Target of classification will be Age of abalones, which is determined by the number of rings counted by cutting the shell through the cone of the abalone and staining it. Age in years of abalones is given by: `Age (in years) = Number of Rings + 1.5`\n",
    "\n",
    "2. 7 out of 8 attributes in the data set are considered suitable features:\n",
    "    - Sex (Removed as gender is not likely to be effective in age classification)\n",
    "    - Length\n",
    "    - Diameter\n",
    "    - Height\n",
    "    - Whole weight (whole abalone)\n",
    "    - Shucked weight (Weight of meat)\n",
    "    - Viscera weight (gut weight i.e. after bleeding)\n",
    "    - Shell weight (after being dried)\n",
    "\n",
    "4. Data has been pre-processed for this data set:\n",
    "    - Examples with missing values were removed as majority having missing predicted values.\n",
    "    - Ranges of continuous values have been scaled for use with Artificial Neural Network (by dividing by 200)."
   ]
  },
  {
   "cell_type": "markdown",
   "id": "29d356f6",
   "metadata": {},
   "source": [
    "## Classification Approach\n",
    "1. Age will be categorized into 5 classes. \n",
    "2. Same training set and test set will be used. Training set and test set are normalized (i.e. subtract by mean and divided by standard deviation) separately to avoid [data leak](https://scikit-learn.org/stable/modules/generated/sklearn.preprocessing.scale.html).\n",
    "3. Classification will be performed using following 5 algorithims:\n",
    "    - Logistic Regression\n",
    "    - Decision Tree\n",
    "    - Random Forest\n",
    "    - Support Vector Machine\n",
    "    - Naive Bayes\n",
    "4. Performance of each algorithm will be accessed by F1-Score, Precision, Recall and AUC. "
   ]
  },
  {
   "cell_type": "markdown",
   "id": "5a45845c",
   "metadata": {},
   "source": [
    "## Load Data"
   ]
  },
  {
   "cell_type": "code",
   "execution_count": 1,
   "id": "e9e6c0c2",
   "metadata": {},
   "outputs": [],
   "source": [
    "import os\n",
    "import pandas as pd\n",
    "import numpy as np\n",
    "import matplotlib.pyplot as plt\n",
    "import seaborn as sns\n",
    "\n",
    "# sklearn libraries\n",
    "from sklearn.preprocessing import StandardScaler\n",
    "from sklearn.preprocessing import scale\n",
    "from sklearn.model_selection import train_test_split\n",
    "from sklearn.preprocessing import LabelEncoder\n",
    "\n",
    "# 'abalone.csv' file stored in 'data' sub-folder\n",
    "data_path = ['data']\n",
    "filepath = os.sep.join(data_path + ['abalone.csv'])\n",
    "\n",
    "# Create data frame (no header)\n",
    "data = pd.read_csv(filepath, sep=',', header=None)\n",
    "\n",
    "# Assign column heading\n",
    "data.columns = [\n",
    "    'Sex', 'Length', 'Diameter', 'Height', 'Whole_weight', \n",
    "    'Shucked_weight', 'Viscera_weight', 'Shell_weight', 'Rings'\n",
    "]"
   ]
  },
  {
   "cell_type": "markdown",
   "id": "c56b2672",
   "metadata": {},
   "source": [
    "## Data Exploration"
   ]
  },
  {
   "cell_type": "code",
   "execution_count": 2,
   "id": "794f8c53",
   "metadata": {},
   "outputs": [],
   "source": [
    "# Define function to plot column as bar chart\n",
    "\n",
    "def plot_column(col, wd=15, ht=5):\n",
    "    fig = plt.figure(figsize=(wd, ht))\n",
    "    ax = fig.gca()\n",
    "    \n",
    "    x = data[col].value_counts().index\n",
    "    y = data[col].value_counts().values\n",
    "    plt.bar(x, y)\n",
    "\n",
    "    ax.set_title('Number of Abalones by ' + col) \n",
    "    ax.set_xlabel(col) \n",
    "    ax.set_ylabel('Number of Abalones')"
   ]
  },
  {
   "cell_type": "markdown",
   "id": "3d236b67",
   "metadata": {},
   "source": [
    "#### Number of rows and columns"
   ]
  },
  {
   "cell_type": "code",
   "execution_count": 3,
   "id": "cac1df77",
   "metadata": {},
   "outputs": [
    {
     "name": "stdout",
     "output_type": "stream",
     "text": [
      "Number of Rows:       4177\n",
      "Number of Columns:    9\n"
     ]
    }
   ],
   "source": [
    "# Number of rows and columns\n",
    "print(\"Number of Rows: %10d\" %(data.shape[0]))\n",
    "print(\"Number of Columns: %4d\" %(data.shape[1]))"
   ]
  },
  {
   "cell_type": "markdown",
   "id": "d26306d6",
   "metadata": {},
   "source": [
    "#### Data types in each column"
   ]
  },
  {
   "cell_type": "code",
   "execution_count": 4,
   "id": "9629a8a0",
   "metadata": {},
   "outputs": [
    {
     "name": "stdout",
     "output_type": "stream",
     "text": [
      "<class 'pandas.core.frame.DataFrame'>\n",
      "RangeIndex: 4177 entries, 0 to 4176\n",
      "Data columns (total 9 columns):\n",
      " #   Column          Non-Null Count  Dtype  \n",
      "---  ------          --------------  -----  \n",
      " 0   Sex             4177 non-null   object \n",
      " 1   Length          4177 non-null   float64\n",
      " 2   Diameter        4177 non-null   float64\n",
      " 3   Height          4177 non-null   float64\n",
      " 4   Whole_weight    4177 non-null   float64\n",
      " 5   Shucked_weight  4177 non-null   float64\n",
      " 6   Viscera_weight  4177 non-null   float64\n",
      " 7   Shell_weight    4177 non-null   float64\n",
      " 8   Rings           4177 non-null   int64  \n",
      "dtypes: float64(7), int64(1), object(1)\n",
      "memory usage: 293.8+ KB\n",
      "None\n"
     ]
    }
   ],
   "source": [
    "# data types for each columns\n",
    "print(data.info())"
   ]
  },
  {
   "cell_type": "markdown",
   "id": "31b0c5ef",
   "metadata": {},
   "source": [
    "#### Categorical and Target Column"
   ]
  },
  {
   "cell_type": "code",
   "execution_count": 5,
   "id": "280aeb5c",
   "metadata": {},
   "outputs": [
    {
     "name": "stdout",
     "output_type": "stream",
     "text": [
      "Counts of unique values for 'Sex' column\n",
      "--------------------------------------------------------------------------------\n",
      "M    1528\n",
      "I    1342\n",
      "F    1307\n",
      "Name: Sex, dtype: int64\n"
     ]
    },
    {
     "data": {
      "image/png": "[encoded data removed]",
      "text/plain": [
       "<Figure size 360x360 with 1 Axes>"
      ]
     },
     "metadata": {
      "needs_background": "light"
     },
     "output_type": "display_data"
    }
   ],
   "source": [
    "# Check unique values for categorical features (i.e. ignore 'Rings')\n",
    "# Note that only 'Sex' is categorical feature.\n",
    "\n",
    "print(\"Counts of unique values for 'Sex' column\")\n",
    "print(\"-\" * 80)\n",
    "print(data['Sex'].value_counts())\n",
    "\n",
    "# Plot 'Sex' column\n",
    "plot_column('Sex', 5, 5)"
   ]
  },
  {
   "cell_type": "code",
   "execution_count": 6,
   "id": "bb7eb7e3",
   "metadata": {},
   "outputs": [
    {
     "data": {
      "image/png": "[encoded data removed]",
      "text/plain": [
       "<Figure size 1080x360 with 1 Axes>"
      ]
     },
     "metadata": {
      "needs_background": "light"
     },
     "output_type": "display_data"
    }
   ],
   "source": [
    "# Plot 'Rings' column\n",
    "plot_column('Rings')"
   ]
  },
  {
   "cell_type": "markdown",
   "id": "8920cf2f",
   "metadata": {},
   "source": [
    "#### Statistics of Data Set"
   ]
  },
  {
   "cell_type": "code",
   "execution_count": 7,
   "id": "9b8debca",
   "metadata": {},
   "outputs": [
    {
     "name": "stdout",
     "output_type": "stream",
     "text": [
      "            Length     Diameter       Height  Whole_weight  Shucked_weight  \\\n",
      "count  4177.000000  4177.000000  4177.000000   4177.000000     4177.000000   \n",
      "mean      0.523992     0.407881     0.139516      0.828742        0.359367   \n",
      "std       0.120093     0.099240     0.041827      0.490389        0.221963   \n",
      "min       0.075000     0.055000     0.000000      0.002000        0.001000   \n",
      "25%       0.450000     0.350000     0.115000      0.441500        0.186000   \n",
      "50%       0.545000     0.425000     0.140000      0.799500        0.336000   \n",
      "75%       0.615000     0.480000     0.165000      1.153000        0.502000   \n",
      "max       0.815000     0.650000     1.130000      2.825500        1.488000   \n",
      "\n",
      "       Viscera_weight  Shell_weight        Rings  \n",
      "count     4177.000000   4177.000000  4177.000000  \n",
      "mean         0.180594      0.238831     9.933684  \n",
      "std          0.109614      0.139203     3.224169  \n",
      "min          0.000500      0.001500     1.000000  \n",
      "25%          0.093500      0.130000     8.000000  \n",
      "50%          0.171000      0.234000     9.000000  \n",
      "75%          0.253000      0.329000    11.000000  \n",
      "max          0.760000      1.005000    29.000000  \n"
     ]
    }
   ],
   "source": [
    "print(data.describe())"
   ]
  },
  {
   "cell_type": "markdown",
   "id": "fb6dca00",
   "metadata": {},
   "source": [
    "#### Boxplot Analysis"
   ]
  },
  {
   "cell_type": "code",
   "execution_count": 8,
   "id": "d780d989",
   "metadata": {},
   "outputs": [
    {
     "data": {
      "text/plain": [
       "<AxesSubplot:>"
      ]
     },
     "execution_count": 8,
     "metadata": {},
     "output_type": "execute_result"
    },
    {
     "data": {
      "image/png": "[encoded data removed]",
      "text/plain": [
       "<Figure size 1440x216 with 1 Axes>"
      ]
     },
     "metadata": {
      "needs_background": "light"
     },
     "output_type": "display_data"
    }
   ],
   "source": [
    "# Drop Target and categorical columns (i.e. 'Rings' and 'Sex') keeping only numerical columns\n",
    "data_num = data.drop(['Rings','Sex'], axis=1)\n",
    "\n",
    "# Box Plot to explore for outliers in only numerical features column (i.e. exclude 'Sex')\n",
    "%matplotlib inline\n",
    "\n",
    "data_num.boxplot(figsize=(20,3))"
   ]
  },
  {
   "cell_type": "code",
   "execution_count": 9,
   "id": "75646f7f",
   "metadata": {},
   "outputs": [
    {
     "data": {
      "text/html": [
       "<div>\n",
       "<style scoped>\n",
       "    .dataframe tbody tr th:only-of-type {\n",
       "        vertical-align: middle;\n",
       "    }\n",
       "\n",
       "    .dataframe tbody tr th {\n",
       "        vertical-align: top;\n",
       "    }\n",
       "\n",
       "    .dataframe thead th {\n",
       "        text-align: right;\n",
       "    }\n",
       "</style>\n",
       "<table border=\"1\" class=\"dataframe\">\n",
       "  <thead>\n",
       "    <tr style=\"text-align: right;\">\n",
       "      <th></th>\n",
       "      <th>feature1</th>\n",
       "      <th>feature2</th>\n",
       "      <th>correlation</th>\n",
       "    </tr>\n",
       "  </thead>\n",
       "  <tbody>\n",
       "    <tr>\n",
       "      <th>0</th>\n",
       "      <td>Length</td>\n",
       "      <td>Diameter</td>\n",
       "      <td>0.986812</td>\n",
       "    </tr>\n",
       "    <tr>\n",
       "      <th>15</th>\n",
       "      <td>Whole_weight</td>\n",
       "      <td>Shucked_weight</td>\n",
       "      <td>0.969405</td>\n",
       "    </tr>\n",
       "    <tr>\n",
       "      <th>16</th>\n",
       "      <td>Whole_weight</td>\n",
       "      <td>Viscera_weight</td>\n",
       "      <td>0.966375</td>\n",
       "    </tr>\n",
       "    <tr>\n",
       "      <th>17</th>\n",
       "      <td>Whole_weight</td>\n",
       "      <td>Shell_weight</td>\n",
       "      <td>0.955355</td>\n",
       "    </tr>\n",
       "    <tr>\n",
       "      <th>18</th>\n",
       "      <td>Shucked_weight</td>\n",
       "      <td>Viscera_weight</td>\n",
       "      <td>0.931961</td>\n",
       "    </tr>\n",
       "    <tr>\n",
       "      <th>7</th>\n",
       "      <td>Diameter</td>\n",
       "      <td>Whole_weight</td>\n",
       "      <td>0.925452</td>\n",
       "    </tr>\n",
       "    <tr>\n",
       "      <th>2</th>\n",
       "      <td>Length</td>\n",
       "      <td>Whole_weight</td>\n",
       "      <td>0.925261</td>\n",
       "    </tr>\n",
       "    <tr>\n",
       "      <th>20</th>\n",
       "      <td>Viscera_weight</td>\n",
       "      <td>Shell_weight</td>\n",
       "      <td>0.907656</td>\n",
       "    </tr>\n",
       "    <tr>\n",
       "      <th>10</th>\n",
       "      <td>Diameter</td>\n",
       "      <td>Shell_weight</td>\n",
       "      <td>0.905330</td>\n",
       "    </tr>\n",
       "    <tr>\n",
       "      <th>4</th>\n",
       "      <td>Length</td>\n",
       "      <td>Viscera_weight</td>\n",
       "      <td>0.903018</td>\n",
       "    </tr>\n",
       "    <tr>\n",
       "      <th>9</th>\n",
       "      <td>Diameter</td>\n",
       "      <td>Viscera_weight</td>\n",
       "      <td>0.899724</td>\n",
       "    </tr>\n",
       "    <tr>\n",
       "      <th>3</th>\n",
       "      <td>Length</td>\n",
       "      <td>Shucked_weight</td>\n",
       "      <td>0.897914</td>\n",
       "    </tr>\n",
       "    <tr>\n",
       "      <th>5</th>\n",
       "      <td>Length</td>\n",
       "      <td>Shell_weight</td>\n",
       "      <td>0.897706</td>\n",
       "    </tr>\n",
       "    <tr>\n",
       "      <th>8</th>\n",
       "      <td>Diameter</td>\n",
       "      <td>Shucked_weight</td>\n",
       "      <td>0.893162</td>\n",
       "    </tr>\n",
       "    <tr>\n",
       "      <th>19</th>\n",
       "      <td>Shucked_weight</td>\n",
       "      <td>Shell_weight</td>\n",
       "      <td>0.882617</td>\n",
       "    </tr>\n",
       "    <tr>\n",
       "      <th>6</th>\n",
       "      <td>Diameter</td>\n",
       "      <td>Height</td>\n",
       "      <td>0.833684</td>\n",
       "    </tr>\n",
       "    <tr>\n",
       "      <th>1</th>\n",
       "      <td>Length</td>\n",
       "      <td>Height</td>\n",
       "      <td>0.827554</td>\n",
       "    </tr>\n",
       "    <tr>\n",
       "      <th>11</th>\n",
       "      <td>Height</td>\n",
       "      <td>Whole_weight</td>\n",
       "      <td>0.819221</td>\n",
       "    </tr>\n",
       "    <tr>\n",
       "      <th>14</th>\n",
       "      <td>Height</td>\n",
       "      <td>Shell_weight</td>\n",
       "      <td>0.817338</td>\n",
       "    </tr>\n",
       "    <tr>\n",
       "      <th>13</th>\n",
       "      <td>Height</td>\n",
       "      <td>Viscera_weight</td>\n",
       "      <td>0.798319</td>\n",
       "    </tr>\n",
       "    <tr>\n",
       "      <th>12</th>\n",
       "      <td>Height</td>\n",
       "      <td>Shucked_weight</td>\n",
       "      <td>0.774972</td>\n",
       "    </tr>\n",
       "  </tbody>\n",
       "</table>\n",
       "</div>"
      ],
      "text/plain": [
       "          feature1        feature2  correlation\n",
       "0           Length        Diameter     0.986812\n",
       "15    Whole_weight  Shucked_weight     0.969405\n",
       "16    Whole_weight  Viscera_weight     0.966375\n",
       "17    Whole_weight    Shell_weight     0.955355\n",
       "18  Shucked_weight  Viscera_weight     0.931961\n",
       "7         Diameter    Whole_weight     0.925452\n",
       "2           Length    Whole_weight     0.925261\n",
       "20  Viscera_weight    Shell_weight     0.907656\n",
       "10        Diameter    Shell_weight     0.905330\n",
       "4           Length  Viscera_weight     0.903018\n",
       "9         Diameter  Viscera_weight     0.899724\n",
       "3           Length  Shucked_weight     0.897914\n",
       "5           Length    Shell_weight     0.897706\n",
       "8         Diameter  Shucked_weight     0.893162\n",
       "19  Shucked_weight    Shell_weight     0.882617\n",
       "6         Diameter          Height     0.833684\n",
       "1           Length          Height     0.827554\n",
       "11          Height    Whole_weight     0.819221\n",
       "14          Height    Shell_weight     0.817338\n",
       "13          Height  Viscera_weight     0.798319\n",
       "12          Height  Shucked_weight     0.774972"
      ]
     },
     "execution_count": 9,
     "metadata": {},
     "output_type": "execute_result"
    }
   ],
   "source": [
    "# Calculate correlation among numerical feature\n",
    "data_corr = data_num.corr()\n",
    "feature_col = data_num.columns\n",
    "\n",
    "# Iterate through upper triangle to obtain cross-correlation pairs\n",
    "corr_list = [[feature_col[i], feature_col[j], data_corr.iloc[i, j]]\n",
    "             for i in range(len(feature_col)) for j in range(i+1, len(feature_col))]\n",
    "\n",
    "# Create correlation data frame\n",
    "df_corr = pd.DataFrame(corr_list, columns=['feature1','feature2','correlation'])\n",
    "\n",
    "# Sort correlation by descending order\n",
    "df_corr.sort_values(by='correlation', ascending=False)"
   ]
  },
  {
   "cell_type": "markdown",
   "id": "459e4358",
   "metadata": {},
   "source": [
    "#### Observations\n",
    "- Total of 4177 records (i.e. rows) and 8 features.\n",
    "- All columns are float type except for 'Sex' ('Object' type) and 'Rings ('Int64' type). Any erroneous data/ outliers can be removed via scaling.\n",
    "- The only categorical feature (i.e. 'Sex') is evenly balanced (i.e. data set is rather evenly balanced across male, female and infant)\n",
    "- Range of values for the target label 'Rings' (i.e. from 1 to 29) is relatively wide with respect to the number of data points (4177 data points). Hence, aggregation of 'Rings' column to only 5 target labels before computing the 'Age' column.\n",
    "- Dataset has been scaled previously (i.e. divided by 200).\n",
    "- Numerical features appears to be highly correlated, ranging between 0.775 (min) to 0.987 (max)"
   ]
  },
  {
   "cell_type": "markdown",
   "id": "2e96ff2a",
   "metadata": {},
   "source": [
    "## Data Preparation\n",
    "- Recode target label from 'Rings' to 'Age' and aggregate to 5 bins instead of initial 29 unique classes.\n",
    "- No missing or duplicate values hence no requirement to drop any duplicate rows or rows containing null values.\n",
    "- Drop 'Sex' column as gender is unlikely to be useful for age classification.\n",
    "- Data set to be separated to test and training set prior to scaling in order to avoid data leak. Purpose of scaling is to remove outliers and possible erroneuous values."
   ]
  },
  {
   "cell_type": "markdown",
   "id": "59054cac",
   "metadata": {},
   "source": [
    "#### Missing Values"
   ]
  },
  {
   "cell_type": "code",
   "execution_count": 10,
   "id": "e6bfd848",
   "metadata": {},
   "outputs": [
    {
     "name": "stdout",
     "output_type": "stream",
     "text": [
      "Sex               False\n",
      "Length            False\n",
      "Diameter          False\n",
      "Height            False\n",
      "Whole_weight      False\n",
      "Shucked_weight    False\n",
      "Viscera_weight    False\n",
      "Shell_weight      False\n",
      "Rings             False\n",
      "dtype: bool\n"
     ]
    }
   ],
   "source": [
    "# True if there are any null/missing values in the column\n",
    "print(data.isna().any())"
   ]
  },
  {
   "cell_type": "markdown",
   "id": "14ec3a95",
   "metadata": {},
   "source": [
    "#### Compute Abalone's Age & Drop 'Sex' Column"
   ]
  },
  {
   "cell_type": "code",
   "execution_count": 11,
   "id": "97aefc47",
   "metadata": {},
   "outputs": [
    {
     "data": {
      "text/html": [
       "<div>\n",
       "<style scoped>\n",
       "    .dataframe tbody tr th:only-of-type {\n",
       "        vertical-align: middle;\n",
       "    }\n",
       "\n",
       "    .dataframe tbody tr th {\n",
       "        vertical-align: top;\n",
       "    }\n",
       "\n",
       "    .dataframe thead th {\n",
       "        text-align: right;\n",
       "    }\n",
       "</style>\n",
       "<table border=\"1\" class=\"dataframe\">\n",
       "  <thead>\n",
       "    <tr style=\"text-align: right;\">\n",
       "      <th></th>\n",
       "      <th>Length</th>\n",
       "      <th>Diameter</th>\n",
       "      <th>Height</th>\n",
       "      <th>Whole_weight</th>\n",
       "      <th>Shucked_weight</th>\n",
       "      <th>Viscera_weight</th>\n",
       "      <th>Shell_weight</th>\n",
       "      <th>Age</th>\n",
       "    </tr>\n",
       "  </thead>\n",
       "  <tbody>\n",
       "    <tr>\n",
       "      <th>0</th>\n",
       "      <td>0.455</td>\n",
       "      <td>0.365</td>\n",
       "      <td>0.095</td>\n",
       "      <td>0.5140</td>\n",
       "      <td>0.2245</td>\n",
       "      <td>0.1010</td>\n",
       "      <td>0.1500</td>\n",
       "      <td>(13.5, 30.5]</td>\n",
       "    </tr>\n",
       "    <tr>\n",
       "      <th>1</th>\n",
       "      <td>0.350</td>\n",
       "      <td>0.265</td>\n",
       "      <td>0.090</td>\n",
       "      <td>0.2255</td>\n",
       "      <td>0.0995</td>\n",
       "      <td>0.0485</td>\n",
       "      <td>0.0700</td>\n",
       "      <td>(2.499, 8.5]</td>\n",
       "    </tr>\n",
       "    <tr>\n",
       "      <th>2</th>\n",
       "      <td>0.530</td>\n",
       "      <td>0.420</td>\n",
       "      <td>0.135</td>\n",
       "      <td>0.6770</td>\n",
       "      <td>0.2565</td>\n",
       "      <td>0.1415</td>\n",
       "      <td>0.2100</td>\n",
       "      <td>(8.5, 10.5]</td>\n",
       "    </tr>\n",
       "    <tr>\n",
       "      <th>3</th>\n",
       "      <td>0.440</td>\n",
       "      <td>0.365</td>\n",
       "      <td>0.125</td>\n",
       "      <td>0.5160</td>\n",
       "      <td>0.2155</td>\n",
       "      <td>0.1140</td>\n",
       "      <td>0.1550</td>\n",
       "      <td>(10.5, 11.5]</td>\n",
       "    </tr>\n",
       "    <tr>\n",
       "      <th>4</th>\n",
       "      <td>0.330</td>\n",
       "      <td>0.255</td>\n",
       "      <td>0.080</td>\n",
       "      <td>0.2050</td>\n",
       "      <td>0.0895</td>\n",
       "      <td>0.0395</td>\n",
       "      <td>0.0550</td>\n",
       "      <td>(2.499, 8.5]</td>\n",
       "    </tr>\n",
       "    <tr>\n",
       "      <th>...</th>\n",
       "      <td>...</td>\n",
       "      <td>...</td>\n",
       "      <td>...</td>\n",
       "      <td>...</td>\n",
       "      <td>...</td>\n",
       "      <td>...</td>\n",
       "      <td>...</td>\n",
       "      <td>...</td>\n",
       "    </tr>\n",
       "    <tr>\n",
       "      <th>4172</th>\n",
       "      <td>0.565</td>\n",
       "      <td>0.450</td>\n",
       "      <td>0.165</td>\n",
       "      <td>0.8870</td>\n",
       "      <td>0.3700</td>\n",
       "      <td>0.2390</td>\n",
       "      <td>0.2490</td>\n",
       "      <td>(11.5, 13.5]</td>\n",
       "    </tr>\n",
       "    <tr>\n",
       "      <th>4173</th>\n",
       "      <td>0.590</td>\n",
       "      <td>0.440</td>\n",
       "      <td>0.135</td>\n",
       "      <td>0.9660</td>\n",
       "      <td>0.4390</td>\n",
       "      <td>0.2145</td>\n",
       "      <td>0.2605</td>\n",
       "      <td>(10.5, 11.5]</td>\n",
       "    </tr>\n",
       "    <tr>\n",
       "      <th>4174</th>\n",
       "      <td>0.600</td>\n",
       "      <td>0.475</td>\n",
       "      <td>0.205</td>\n",
       "      <td>1.1760</td>\n",
       "      <td>0.5255</td>\n",
       "      <td>0.2875</td>\n",
       "      <td>0.3080</td>\n",
       "      <td>(8.5, 10.5]</td>\n",
       "    </tr>\n",
       "    <tr>\n",
       "      <th>4175</th>\n",
       "      <td>0.625</td>\n",
       "      <td>0.485</td>\n",
       "      <td>0.150</td>\n",
       "      <td>1.0945</td>\n",
       "      <td>0.5310</td>\n",
       "      <td>0.2610</td>\n",
       "      <td>0.2960</td>\n",
       "      <td>(10.5, 11.5]</td>\n",
       "    </tr>\n",
       "    <tr>\n",
       "      <th>4176</th>\n",
       "      <td>0.710</td>\n",
       "      <td>0.555</td>\n",
       "      <td>0.195</td>\n",
       "      <td>1.9485</td>\n",
       "      <td>0.9455</td>\n",
       "      <td>0.3765</td>\n",
       "      <td>0.4950</td>\n",
       "      <td>(11.5, 13.5]</td>\n",
       "    </tr>\n",
       "  </tbody>\n",
       "</table>\n",
       "<p>4177 rows × 8 columns</p>\n",
       "</div>"
      ],
      "text/plain": [
       "      Length  Diameter  Height  Whole_weight  Shucked_weight  Viscera_weight  \\\n",
       "0      0.455     0.365   0.095        0.5140          0.2245          0.1010   \n",
       "1      0.350     0.265   0.090        0.2255          0.0995          0.0485   \n",
       "2      0.530     0.420   0.135        0.6770          0.2565          0.1415   \n",
       "3      0.440     0.365   0.125        0.5160          0.2155          0.1140   \n",
       "4      0.330     0.255   0.080        0.2050          0.0895          0.0395   \n",
       "...      ...       ...     ...           ...             ...             ...   \n",
       "4172   0.565     0.450   0.165        0.8870          0.3700          0.2390   \n",
       "4173   0.590     0.440   0.135        0.9660          0.4390          0.2145   \n",
       "4174   0.600     0.475   0.205        1.1760          0.5255          0.2875   \n",
       "4175   0.625     0.485   0.150        1.0945          0.5310          0.2610   \n",
       "4176   0.710     0.555   0.195        1.9485          0.9455          0.3765   \n",
       "\n",
       "      Shell_weight           Age  \n",
       "0           0.1500  (13.5, 30.5]  \n",
       "1           0.0700  (2.499, 8.5]  \n",
       "2           0.2100   (8.5, 10.5]  \n",
       "3           0.1550  (10.5, 11.5]  \n",
       "4           0.0550  (2.499, 8.5]  \n",
       "...            ...           ...  \n",
       "4172        0.2490  (11.5, 13.5]  \n",
       "4173        0.2605  (10.5, 11.5]  \n",
       "4174        0.3080   (8.5, 10.5]  \n",
       "4175        0.2960  (10.5, 11.5]  \n",
       "4176        0.4950  (11.5, 13.5]  \n",
       "\n",
       "[4177 rows x 8 columns]"
      ]
     },
     "execution_count": 11,
     "metadata": {},
     "output_type": "execute_result"
    }
   ],
   "source": [
    "# Create new column 'Age' by computing Age = Rings + 1.5 years\n",
    "data['Age'] = data['Rings'] + 1.5\n",
    "\n",
    "# Drop 'Rings' column and create new data frame, data1\n",
    "# Drop 'Sex' column as Gender is unlikely to be effective in age classification\n",
    "# New dataframe, data1 contains Age column while data contains Rings column\n",
    "data1 = data.drop(['Rings','Sex'], axis=1)\n",
    "\n",
    "# Aggregate Abalone's age into 5 bins\n",
    "data1['Age'] = pd.qcut(data['Age'],5)\n",
    "data1"
   ]
  },
  {
   "cell_type": "code",
   "execution_count": 12,
   "id": "b64465a8",
   "metadata": {},
   "outputs": [
    {
     "name": "stdout",
     "output_type": "stream",
     "text": [
      "(2.499, 8.5]     839\n",
      "(8.5, 10.5]     1257\n",
      "(10.5, 11.5]     634\n",
      "(11.5, 13.5]     754\n",
      "(13.5, 30.5]     693\n",
      "Name: Age, dtype: int64\n"
     ]
    }
   ],
   "source": [
    "# Bin size and frequency per bin sorted by index\n",
    "age_bin = data1['Age'].value_counts().sort_index()\n",
    "print(age_bin)"
   ]
  },
  {
   "cell_type": "markdown",
   "id": "02691d9c",
   "metadata": {},
   "source": [
    "#### 5 classes as target value\n",
    "As per above, Class 1 has the highest frequency, which may unbalance the dataset. Note that the classes are formed by using quantile-based discretization function i.e. discretize variable into equal-sized buckets based on rank or based on sample quantiles."
   ]
  },
  {
   "cell_type": "markdown",
   "id": "f3b58525",
   "metadata": {},
   "source": [
    "#### Normalize Labels"
   ]
  },
  {
   "cell_type": "code",
   "execution_count": 13,
   "id": "10b1513a",
   "metadata": {},
   "outputs": [],
   "source": [
    "# Encode target labels (i.e. 'Age') with value between 0 and 4 (5 bins)\n",
    "le = LabelEncoder()\n",
    "data1['Age'] = le.fit_transform(data1['Age'])"
   ]
  },
  {
   "cell_type": "code",
   "execution_count": 14,
   "id": "29718ff7",
   "metadata": {},
   "outputs": [
    {
     "data": {
      "text/plain": [
       "Text(0, 0.5, 'Number of Abalones')"
      ]
     },
     "execution_count": 14,
     "metadata": {},
     "output_type": "execute_result"
    },
    {
     "data": {
      "image/png": "[encoded data removed]",
      "text/plain": [
       "<Figure size 720x360 with 1 Axes>"
      ]
     },
     "metadata": {
      "needs_background": "light"
     },
     "output_type": "display_data"
    }
   ],
   "source": [
    "# plot frequency of age bins\n",
    "fig = plt.figure(figsize=(10, 5))\n",
    "ax = fig.gca()\n",
    "\n",
    "x = [str(label) for label in age_bin.index]\n",
    "y = [val for val in age_bin.values]\n",
    "\n",
    "plt.bar(x, y)\n",
    "ax.set_title('Number of Abalones per Age bins') \n",
    "ax.set_xlabel('Age bins') \n",
    "ax.set_ylabel('Number of Abalones')"
   ]
  },
  {
   "cell_type": "code",
   "execution_count": 15,
   "id": "9e893d5b",
   "metadata": {},
   "outputs": [
    {
     "name": "stdout",
     "output_type": "stream",
     "text": [
      "Label '0' : [Interval(2.499, 8.5, closed='right')]\n",
      "Label '1' : [Interval(8.5, 10.5, closed='right')]\n",
      "Label '2' : [Interval(10.5, 11.5, closed='right')]\n",
      "Label '3' : [Interval(11.5, 13.5, closed='right')]\n",
      "Label '4' : [Interval(13.5, 30.5, closed='right')]\n"
     ]
    }
   ],
   "source": [
    "for i in [0, 1, 2, 3, 4]:\n",
    "    print(\"Label '%d' : %s\" %(i, str(le.inverse_transform([i]))))"
   ]
  },
  {
   "cell_type": "markdown",
   "id": "c9bdbf68",
   "metadata": {},
   "source": [
    "#### Duplicates"
   ]
  },
  {
   "cell_type": "code",
   "execution_count": 16,
   "id": "8090abab",
   "metadata": {},
   "outputs": [
    {
     "name": "stdout",
     "output_type": "stream",
     "text": [
      "Number of duplicated rows in data set : 0\n"
     ]
    },
    {
     "data": {
      "text/html": [
       "<div>\n",
       "<style scoped>\n",
       "    .dataframe tbody tr th:only-of-type {\n",
       "        vertical-align: middle;\n",
       "    }\n",
       "\n",
       "    .dataframe tbody tr th {\n",
       "        vertical-align: top;\n",
       "    }\n",
       "\n",
       "    .dataframe thead th {\n",
       "        text-align: right;\n",
       "    }\n",
       "</style>\n",
       "<table border=\"1\" class=\"dataframe\">\n",
       "  <thead>\n",
       "    <tr style=\"text-align: right;\">\n",
       "      <th></th>\n",
       "      <th>Length</th>\n",
       "      <th>Diameter</th>\n",
       "      <th>Height</th>\n",
       "      <th>Whole_weight</th>\n",
       "      <th>Shucked_weight</th>\n",
       "      <th>Viscera_weight</th>\n",
       "      <th>Shell_weight</th>\n",
       "      <th>Age</th>\n",
       "    </tr>\n",
       "  </thead>\n",
       "  <tbody>\n",
       "    <tr>\n",
       "      <th>0</th>\n",
       "      <td>0.455</td>\n",
       "      <td>0.365</td>\n",
       "      <td>0.095</td>\n",
       "      <td>0.5140</td>\n",
       "      <td>0.2245</td>\n",
       "      <td>0.1010</td>\n",
       "      <td>0.1500</td>\n",
       "      <td>4</td>\n",
       "    </tr>\n",
       "    <tr>\n",
       "      <th>1</th>\n",
       "      <td>0.350</td>\n",
       "      <td>0.265</td>\n",
       "      <td>0.090</td>\n",
       "      <td>0.2255</td>\n",
       "      <td>0.0995</td>\n",
       "      <td>0.0485</td>\n",
       "      <td>0.0700</td>\n",
       "      <td>0</td>\n",
       "    </tr>\n",
       "    <tr>\n",
       "      <th>2</th>\n",
       "      <td>0.530</td>\n",
       "      <td>0.420</td>\n",
       "      <td>0.135</td>\n",
       "      <td>0.6770</td>\n",
       "      <td>0.2565</td>\n",
       "      <td>0.1415</td>\n",
       "      <td>0.2100</td>\n",
       "      <td>1</td>\n",
       "    </tr>\n",
       "    <tr>\n",
       "      <th>3</th>\n",
       "      <td>0.440</td>\n",
       "      <td>0.365</td>\n",
       "      <td>0.125</td>\n",
       "      <td>0.5160</td>\n",
       "      <td>0.2155</td>\n",
       "      <td>0.1140</td>\n",
       "      <td>0.1550</td>\n",
       "      <td>2</td>\n",
       "    </tr>\n",
       "    <tr>\n",
       "      <th>4</th>\n",
       "      <td>0.330</td>\n",
       "      <td>0.255</td>\n",
       "      <td>0.080</td>\n",
       "      <td>0.2050</td>\n",
       "      <td>0.0895</td>\n",
       "      <td>0.0395</td>\n",
       "      <td>0.0550</td>\n",
       "      <td>0</td>\n",
       "    </tr>\n",
       "    <tr>\n",
       "      <th>...</th>\n",
       "      <td>...</td>\n",
       "      <td>...</td>\n",
       "      <td>...</td>\n",
       "      <td>...</td>\n",
       "      <td>...</td>\n",
       "      <td>...</td>\n",
       "      <td>...</td>\n",
       "      <td>...</td>\n",
       "    </tr>\n",
       "    <tr>\n",
       "      <th>4172</th>\n",
       "      <td>0.565</td>\n",
       "      <td>0.450</td>\n",
       "      <td>0.165</td>\n",
       "      <td>0.8870</td>\n",
       "      <td>0.3700</td>\n",
       "      <td>0.2390</td>\n",
       "      <td>0.2490</td>\n",
       "      <td>3</td>\n",
       "    </tr>\n",
       "    <tr>\n",
       "      <th>4173</th>\n",
       "      <td>0.590</td>\n",
       "      <td>0.440</td>\n",
       "      <td>0.135</td>\n",
       "      <td>0.9660</td>\n",
       "      <td>0.4390</td>\n",
       "      <td>0.2145</td>\n",
       "      <td>0.2605</td>\n",
       "      <td>2</td>\n",
       "    </tr>\n",
       "    <tr>\n",
       "      <th>4174</th>\n",
       "      <td>0.600</td>\n",
       "      <td>0.475</td>\n",
       "      <td>0.205</td>\n",
       "      <td>1.1760</td>\n",
       "      <td>0.5255</td>\n",
       "      <td>0.2875</td>\n",
       "      <td>0.3080</td>\n",
       "      <td>1</td>\n",
       "    </tr>\n",
       "    <tr>\n",
       "      <th>4175</th>\n",
       "      <td>0.625</td>\n",
       "      <td>0.485</td>\n",
       "      <td>0.150</td>\n",
       "      <td>1.0945</td>\n",
       "      <td>0.5310</td>\n",
       "      <td>0.2610</td>\n",
       "      <td>0.2960</td>\n",
       "      <td>2</td>\n",
       "    </tr>\n",
       "    <tr>\n",
       "      <th>4176</th>\n",
       "      <td>0.710</td>\n",
       "      <td>0.555</td>\n",
       "      <td>0.195</td>\n",
       "      <td>1.9485</td>\n",
       "      <td>0.9455</td>\n",
       "      <td>0.3765</td>\n",
       "      <td>0.4950</td>\n",
       "      <td>3</td>\n",
       "    </tr>\n",
       "  </tbody>\n",
       "</table>\n",
       "<p>4177 rows × 8 columns</p>\n",
       "</div>"
      ],
      "text/plain": [
       "      Length  Diameter  Height  Whole_weight  Shucked_weight  Viscera_weight  \\\n",
       "0      0.455     0.365   0.095        0.5140          0.2245          0.1010   \n",
       "1      0.350     0.265   0.090        0.2255          0.0995          0.0485   \n",
       "2      0.530     0.420   0.135        0.6770          0.2565          0.1415   \n",
       "3      0.440     0.365   0.125        0.5160          0.2155          0.1140   \n",
       "4      0.330     0.255   0.080        0.2050          0.0895          0.0395   \n",
       "...      ...       ...     ...           ...             ...             ...   \n",
       "4172   0.565     0.450   0.165        0.8870          0.3700          0.2390   \n",
       "4173   0.590     0.440   0.135        0.9660          0.4390          0.2145   \n",
       "4174   0.600     0.475   0.205        1.1760          0.5255          0.2875   \n",
       "4175   0.625     0.485   0.150        1.0945          0.5310          0.2610   \n",
       "4176   0.710     0.555   0.195        1.9485          0.9455          0.3765   \n",
       "\n",
       "      Shell_weight  Age  \n",
       "0           0.1500    4  \n",
       "1           0.0700    0  \n",
       "2           0.2100    1  \n",
       "3           0.1550    2  \n",
       "4           0.0550    0  \n",
       "...            ...  ...  \n",
       "4172        0.2490    3  \n",
       "4173        0.2605    2  \n",
       "4174        0.3080    1  \n",
       "4175        0.2960    2  \n",
       "4176        0.4950    3  \n",
       "\n",
       "[4177 rows x 8 columns]"
      ]
     },
     "execution_count": 16,
     "metadata": {},
     "output_type": "execute_result"
    }
   ],
   "source": [
    "# Sum of all duplicated rows (if any)\n",
    "print(f\"Number of duplicated rows in data set : {data1.duplicated().sum()}\")\n",
    "data1"
   ]
  },
  {
   "cell_type": "markdown",
   "id": "258c7f2f",
   "metadata": {},
   "source": [
    "#### Outliers\n",
    "- Scaling (subtract mean & divide by standard deviation) may remove possible outliers (i.e. more than 3 standard deviations away from mean)."
   ]
  },
  {
   "cell_type": "code",
   "execution_count": 17,
   "id": "2f685ff4",
   "metadata": {},
   "outputs": [
    {
     "data": {
      "text/html": [
       "<div>\n",
       "<style scoped>\n",
       "    .dataframe tbody tr th:only-of-type {\n",
       "        vertical-align: middle;\n",
       "    }\n",
       "\n",
       "    .dataframe tbody tr th {\n",
       "        vertical-align: top;\n",
       "    }\n",
       "\n",
       "    .dataframe thead th {\n",
       "        text-align: right;\n",
       "    }\n",
       "</style>\n",
       "<table border=\"1\" class=\"dataframe\">\n",
       "  <thead>\n",
       "    <tr style=\"text-align: right;\">\n",
       "      <th></th>\n",
       "      <th>Length</th>\n",
       "      <th>Diameter</th>\n",
       "      <th>Height</th>\n",
       "      <th>Whole_weight</th>\n",
       "      <th>Shucked_weight</th>\n",
       "      <th>Viscera_weight</th>\n",
       "      <th>Shell_weight</th>\n",
       "      <th>Age</th>\n",
       "    </tr>\n",
       "  </thead>\n",
       "  <tbody>\n",
       "    <tr>\n",
       "      <th>0</th>\n",
       "      <td>0.455</td>\n",
       "      <td>0.365</td>\n",
       "      <td>0.095</td>\n",
       "      <td>0.5140</td>\n",
       "      <td>0.2245</td>\n",
       "      <td>0.1010</td>\n",
       "      <td>0.1500</td>\n",
       "      <td>4</td>\n",
       "    </tr>\n",
       "    <tr>\n",
       "      <th>1</th>\n",
       "      <td>0.350</td>\n",
       "      <td>0.265</td>\n",
       "      <td>0.090</td>\n",
       "      <td>0.2255</td>\n",
       "      <td>0.0995</td>\n",
       "      <td>0.0485</td>\n",
       "      <td>0.0700</td>\n",
       "      <td>0</td>\n",
       "    </tr>\n",
       "    <tr>\n",
       "      <th>2</th>\n",
       "      <td>0.530</td>\n",
       "      <td>0.420</td>\n",
       "      <td>0.135</td>\n",
       "      <td>0.6770</td>\n",
       "      <td>0.2565</td>\n",
       "      <td>0.1415</td>\n",
       "      <td>0.2100</td>\n",
       "      <td>1</td>\n",
       "    </tr>\n",
       "    <tr>\n",
       "      <th>3</th>\n",
       "      <td>0.440</td>\n",
       "      <td>0.365</td>\n",
       "      <td>0.125</td>\n",
       "      <td>0.5160</td>\n",
       "      <td>0.2155</td>\n",
       "      <td>0.1140</td>\n",
       "      <td>0.1550</td>\n",
       "      <td>2</td>\n",
       "    </tr>\n",
       "    <tr>\n",
       "      <th>4</th>\n",
       "      <td>0.330</td>\n",
       "      <td>0.255</td>\n",
       "      <td>0.080</td>\n",
       "      <td>0.2050</td>\n",
       "      <td>0.0895</td>\n",
       "      <td>0.0395</td>\n",
       "      <td>0.0550</td>\n",
       "      <td>0</td>\n",
       "    </tr>\n",
       "    <tr>\n",
       "      <th>...</th>\n",
       "      <td>...</td>\n",
       "      <td>...</td>\n",
       "      <td>...</td>\n",
       "      <td>...</td>\n",
       "      <td>...</td>\n",
       "      <td>...</td>\n",
       "      <td>...</td>\n",
       "      <td>...</td>\n",
       "    </tr>\n",
       "    <tr>\n",
       "      <th>4172</th>\n",
       "      <td>0.565</td>\n",
       "      <td>0.450</td>\n",
       "      <td>0.165</td>\n",
       "      <td>0.8870</td>\n",
       "      <td>0.3700</td>\n",
       "      <td>0.2390</td>\n",
       "      <td>0.2490</td>\n",
       "      <td>3</td>\n",
       "    </tr>\n",
       "    <tr>\n",
       "      <th>4173</th>\n",
       "      <td>0.590</td>\n",
       "      <td>0.440</td>\n",
       "      <td>0.135</td>\n",
       "      <td>0.9660</td>\n",
       "      <td>0.4390</td>\n",
       "      <td>0.2145</td>\n",
       "      <td>0.2605</td>\n",
       "      <td>2</td>\n",
       "    </tr>\n",
       "    <tr>\n",
       "      <th>4174</th>\n",
       "      <td>0.600</td>\n",
       "      <td>0.475</td>\n",
       "      <td>0.205</td>\n",
       "      <td>1.1760</td>\n",
       "      <td>0.5255</td>\n",
       "      <td>0.2875</td>\n",
       "      <td>0.3080</td>\n",
       "      <td>1</td>\n",
       "    </tr>\n",
       "    <tr>\n",
       "      <th>4175</th>\n",
       "      <td>0.625</td>\n",
       "      <td>0.485</td>\n",
       "      <td>0.150</td>\n",
       "      <td>1.0945</td>\n",
       "      <td>0.5310</td>\n",
       "      <td>0.2610</td>\n",
       "      <td>0.2960</td>\n",
       "      <td>2</td>\n",
       "    </tr>\n",
       "    <tr>\n",
       "      <th>4176</th>\n",
       "      <td>0.710</td>\n",
       "      <td>0.555</td>\n",
       "      <td>0.195</td>\n",
       "      <td>1.9485</td>\n",
       "      <td>0.9455</td>\n",
       "      <td>0.3765</td>\n",
       "      <td>0.4950</td>\n",
       "      <td>3</td>\n",
       "    </tr>\n",
       "  </tbody>\n",
       "</table>\n",
       "<p>4084 rows × 8 columns</p>\n",
       "</div>"
      ],
      "text/plain": [
       "      Length  Diameter  Height  Whole_weight  Shucked_weight  Viscera_weight  \\\n",
       "0      0.455     0.365   0.095        0.5140          0.2245          0.1010   \n",
       "1      0.350     0.265   0.090        0.2255          0.0995          0.0485   \n",
       "2      0.530     0.420   0.135        0.6770          0.2565          0.1415   \n",
       "3      0.440     0.365   0.125        0.5160          0.2155          0.1140   \n",
       "4      0.330     0.255   0.080        0.2050          0.0895          0.0395   \n",
       "...      ...       ...     ...           ...             ...             ...   \n",
       "4172   0.565     0.450   0.165        0.8870          0.3700          0.2390   \n",
       "4173   0.590     0.440   0.135        0.9660          0.4390          0.2145   \n",
       "4174   0.600     0.475   0.205        1.1760          0.5255          0.2875   \n",
       "4175   0.625     0.485   0.150        1.0945          0.5310          0.2610   \n",
       "4176   0.710     0.555   0.195        1.9485          0.9455          0.3765   \n",
       "\n",
       "      Shell_weight  Age  \n",
       "0           0.1500    4  \n",
       "1           0.0700    0  \n",
       "2           0.2100    1  \n",
       "3           0.1550    2  \n",
       "4           0.0550    0  \n",
       "...            ...  ...  \n",
       "4172        0.2490    3  \n",
       "4173        0.2605    2  \n",
       "4174        0.3080    1  \n",
       "4175        0.2960    2  \n",
       "4176        0.4950    3  \n",
       "\n",
       "[4084 rows x 8 columns]"
      ]
     },
     "execution_count": 17,
     "metadata": {},
     "output_type": "execute_result"
    }
   ],
   "source": [
    "# Normalize feature columns i.e. exclude target labels\n",
    "Z = pd.DataFrame(scale(data1[feature_col]), columns=feature_col)\n",
    "\n",
    "# Create a list of row index whereby -3 <= Z <= 3 for the entire row\n",
    "non_outlier_index = [i for i in range(Z.shape[0]) if (Z.iloc[i, :]>=-3).sum() == 7 & (Z.iloc[i, :]<=3).sum() == 7]\n",
    "\n",
    "# Remove outliers (-3 <= Z <=3) in dataset\n",
    "# New data frame, data2 contain non-outlers\n",
    "data2 = data1.iloc[non_outlier_index, :]\n",
    "data2"
   ]
  },
  {
   "cell_type": "code",
   "execution_count": 18,
   "id": "791b19c5",
   "metadata": {},
   "outputs": [
    {
     "name": "stdout",
     "output_type": "stream",
     "text": [
      "Number of rows in before removing outliers     : 4177\n",
      "Number of rows in after removing outliers      : 4084\n",
      "\n",
      "Number of outliers removed : 93\n"
     ]
    }
   ],
   "source": [
    "print(f\"Number of rows in before removing outliers     : {data1.shape[0]}\")\n",
    "print(f\"Number of rows in after removing outliers      : {data2.shape[0]}\")\n",
    "print()\n",
    "print(f\"Number of outliers removed : {data1.shape[0] - data2.shape[0]}\")"
   ]
  },
  {
   "cell_type": "code",
   "execution_count": 19,
   "id": "b44824b4",
   "metadata": {},
   "outputs": [
    {
     "name": "stdout",
     "output_type": "stream",
     "text": [
      "Shape of training set, X_train   : (3267, 7)\n",
      "Shape of training label, y_train : (3267,)\n",
      "Shape of test set, X_test        : (817, 7)\n",
      "Shape of test label, y_test      : (817,)\n"
     ]
    }
   ],
   "source": [
    "# Split dataset into training and test sets\n",
    "X_train, X_test, y_train, y_test = train_test_split(data2[feature_col], data2['Age'], test_size=0.2, random_state=42)\n",
    "\n",
    "print(f\"Shape of training set, X_train   : {X_train.shape}\")\n",
    "print(f\"Shape of training label, y_train : {y_train.shape}\")\n",
    "print(f\"Shape of test set, X_test        : {X_test.shape}\")\n",
    "print(f\"Shape of test label, y_test      : {y_test.shape}\")"
   ]
  },
  {
   "cell_type": "code",
   "execution_count": 20,
   "id": "f4315f1f",
   "metadata": {},
   "outputs": [],
   "source": [
    "# Standard Scaling X_train and X_test\n",
    "scaler = StandardScaler()\n",
    "\n",
    "scaler.fit(X_train)\n",
    "X_train = scaler.transform(X_train)\n",
    "X_test = scaler.transform(X_test)\n"
   ]
  },
  {
   "cell_type": "markdown",
   "id": "60169f95",
   "metadata": {},
   "source": [
    "Copies of X_train_upd, X_test_upd, y_train_upd and y_test will be made prior to classification in order to ensure that all algorithms are using the same test and train data for classification."
   ]
  },
  {
   "cell_type": "markdown",
   "id": "558d1775",
   "metadata": {},
   "source": [
    "## Performance Metrics\n",
    "- Define function perf_metrics to calculate precision, recall, f1 score and AUC.\n",
    "- Store results in a data frame 'metrics'"
   ]
  },
  {
   "cell_type": "code",
   "execution_count": 21,
   "id": "b0485e84",
   "metadata": {},
   "outputs": [],
   "source": [
    "from sklearn.metrics import precision_recall_fscore_support as score\n",
    "from sklearn.metrics import confusion_matrix, accuracy_score, roc_auc_score\n",
    "from sklearn.preprocessing import label_binarize\n",
    "\n",
    "def perf_metrics(y_test, y_pred, model, averaging='weighted', class_no=4):\n",
    "    \n",
    "    # Binarize label in order to compute AUC\n",
    "    binary_classes = list(range(class_no))\n",
    "    y_test_b = label_binarize(y_test, classes=binary_classes)\n",
    "    y_pred_b = label_binarize(y_test, classes=binary_classes)\n",
    "    \n",
    "    # Compute precision, recall, f-score computed from precision_recall_fscore_support\n",
    "    precision, recall, f_score, support = score(y_test, y_pred, average=averaging)\n",
    "    \n",
    "    # Compute accuracy\n",
    "    accuracy = accuracy_score(y_test, y_pred)\n",
    "    \n",
    "    # Binarize label prior to computing AUC\n",
    "    auc = roc_auc_score(y_test_b, y_pred_b, average=averaging)\n",
    "    \n",
    "    # Plot Confusion Matrix\n",
    "    cm = confusion_matrix(y_test, y_pred)\n",
    "    plot_cm(cm, model)\n",
    "    \n",
    "    # Return metric\n",
    "    return pd.Series({'precision':precision, 'recall':recall, 'f_score':f_score,\n",
    "                                  'accuracy':accuracy, 'auc':auc}, name=model)\n"
   ]
  },
  {
   "cell_type": "code",
   "execution_count": 22,
   "id": "7906a565",
   "metadata": {},
   "outputs": [],
   "source": [
    "def plot_cm(cm, model):\n",
    "    fig = plt.figure(figsize=(7,6))\n",
    "    ax = fig.gca()\n",
    "    sns.heatmap(confusion_matrix(y_test, y_pred), annot=True, fmt='', cmap='Blues')\n",
    "\n",
    "    ax.set_title(f'Confusion Matrix ({model})')\n",
    "    ax.set_xlabel('Predicted Values')\n",
    "    ax.set_ylabel('Actual Values')"
   ]
  },
  {
   "cell_type": "markdown",
   "id": "36c56341",
   "metadata": {},
   "source": [
    "## Logistic Regression"
   ]
  },
  {
   "cell_type": "code",
   "execution_count": 23,
   "id": "841eedd7",
   "metadata": {},
   "outputs": [
    {
     "name": "stdout",
     "output_type": "stream",
     "text": [
      "precision    0.451824\n",
      "recall       0.522644\n",
      "f_score      0.480339\n",
      "accuracy     0.522644\n",
      "auc          1.000000\n",
      "Name: Logistic Regression, dtype: float64 \n",
      "\n"
     ]
    },
    {
     "data": {
      "image/png": "[encoded data removed]",
      "text/plain": [
       "<Figure size 504x432 with 2 Axes>"
      ]
     },
     "metadata": {
      "needs_background": "light"
     },
     "output_type": "display_data"
    }
   ],
   "source": [
    "from sklearn.linear_model import LogisticRegression\n",
    "\n",
    "# Use Logistic Regression with solver 'saga' and l1 penalty\n",
    "LR = LogisticRegression(solver='saga', penalty='l2', random_state=42)\n",
    "LR.fit(X_train, y_train)\n",
    "y_pred = LR.predict(X_test)\n",
    "\n",
    "LR_metric = perf_metrics(y_test, y_pred, \"Logistic Regression\")\n",
    "print(LR_metric, '\\n')"
   ]
  },
  {
   "cell_type": "markdown",
   "id": "1f5aa189",
   "metadata": {},
   "source": [
    "## Decision Tree"
   ]
  },
  {
   "cell_type": "code",
   "execution_count": 24,
   "id": "d76487c7",
   "metadata": {},
   "outputs": [
    {
     "name": "stdout",
     "output_type": "stream",
     "text": [
      "precision    0.404218\n",
      "recall       0.402693\n",
      "f_score      0.402717\n",
      "accuracy     0.402693\n",
      "auc          1.000000\n",
      "Name: Decision Tree, dtype: float64 \n",
      "\n"
     ]
    },
    {
     "data": {
      "image/png": "[encoded data removed]",
      "text/plain": [
       "<Figure size 504x432 with 2 Axes>"
      ]
     },
     "metadata": {
      "needs_background": "light"
     },
     "output_type": "display_data"
    }
   ],
   "source": [
    "from sklearn.tree import DecisionTreeClassifier\n",
    "\n",
    "dt = DecisionTreeClassifier(random_state=42)\n",
    "dt.fit(X_train, y_train)\n",
    "y_pred = dt.predict(X_test)\n",
    "\n",
    "DT_metric = perf_metrics(y_test, y_pred, 'Decision Tree')\n",
    "print(DT_metric, '\\n')"
   ]
  },
  {
   "cell_type": "markdown",
   "id": "80356f8e",
   "metadata": {},
   "source": [
    "## Random Forest Classifer"
   ]
  },
  {
   "cell_type": "code",
   "execution_count": 25,
   "id": "17f428fa",
   "metadata": {},
   "outputs": [
    {
     "name": "stdout",
     "output_type": "stream",
     "text": [
      "precision    0.404218\n",
      "recall       0.402693\n",
      "f_score      0.402717\n",
      "accuracy     0.402693\n",
      "auc          1.000000\n",
      "Name: Random Tree, dtype: float64 \n",
      "\n"
     ]
    },
    {
     "data": {
      "image/png": "[encoded data removed]",
      "text/plain": [
       "<Figure size 504x432 with 2 Axes>"
      ]
     },
     "metadata": {
      "needs_background": "light"
     },
     "output_type": "display_data"
    }
   ],
   "source": [
    "from sklearn.ensemble import RandomForestClassifier\n",
    "\n",
    "# Set random seed to be similar for all classifier\n",
    "np.random.seed(42)\n",
    "\n",
    "rf_clf = RandomForestClassifier(n_estimators=5)\n",
    "rf_clf.fit(X_train, y_train)\n",
    "\n",
    "RF_metric = perf_metrics(y_test, y_pred, 'Random Tree')\n",
    "print(RF_metric, '\\n')"
   ]
  },
  {
   "cell_type": "markdown",
   "id": "4d1aa638",
   "metadata": {},
   "source": [
    "## Support Vector Machine"
   ]
  },
  {
   "cell_type": "code",
   "execution_count": 26,
   "id": "4fc76d54",
   "metadata": {},
   "outputs": [
    {
     "name": "stdout",
     "output_type": "stream",
     "text": [
      "precision    0.439879\n",
      "recall       0.514076\n",
      "f_score      0.469878\n",
      "accuracy     0.514076\n",
      "auc          1.000000\n",
      "Name: SVM, dtype: float64 \n",
      "\n"
     ]
    },
    {
     "data": {
      "image/png": "[encoded data removed]",
      "text/plain": [
       "<Figure size 504x432 with 2 Axes>"
      ]
     },
     "metadata": {
      "needs_background": "light"
     },
     "output_type": "display_data"
    }
   ],
   "source": [
    "from sklearn import svm\n",
    "\n",
    "# Set random seed to be similar for all classifier\n",
    "np.random.seed(42)\n",
    "\n",
    "svm_mod = svm.SVC()\n",
    "svm_mod.fit(X_train, y_train)\n",
    "y_pred = svm_mod.predict(X_test)\n",
    "\n",
    "SVM_metric = perf_metrics(y_test, y_pred, 'SVM')\n",
    "print(SVM_metric, '\\n')"
   ]
  },
  {
   "cell_type": "markdown",
   "id": "3d70eecb",
   "metadata": {},
   "source": [
    "## Naive Bayes"
   ]
  },
  {
   "cell_type": "code",
   "execution_count": 27,
   "id": "6144f521",
   "metadata": {},
   "outputs": [
    {
     "name": "stdout",
     "output_type": "stream",
     "text": [
      "precision    0.371350\n",
      "recall       0.439412\n",
      "f_score      0.397785\n",
      "accuracy     0.439412\n",
      "auc          1.000000\n",
      "Name: Naive Bayes, dtype: float64 \n",
      "\n"
     ]
    },
    {
     "data": {
      "image/png": "[encoded data removed]",
      "text/plain": [
       "<Figure size 504x432 with 2 Axes>"
      ]
     },
     "metadata": {
      "needs_background": "light"
     },
     "output_type": "display_data"
    }
   ],
   "source": [
    "from sklearn.naive_bayes import GaussianNB\n",
    "\n",
    "# Set random seed to be similar for all classifier\n",
    "np.random.seed(42)\n",
    "\n",
    "NB_mod = GaussianNB()\n",
    "NB_mod.fit(X_train, y_train)\n",
    "y_pred = NB_mod.predict(X_test)\n",
    "\n",
    "NB_metric = perf_metrics(y_test, y_pred, 'Naive Bayes')\n",
    "print(NB_metric, '\\n')"
   ]
  },
  {
   "cell_type": "markdown",
   "id": "a7da8de9",
   "metadata": {},
   "source": [
    "## Summary"
   ]
  },
  {
   "cell_type": "code",
   "execution_count": 28,
   "id": "64507890",
   "metadata": {},
   "outputs": [
    {
     "data": {
      "text/html": [
       "<div>\n",
       "<style scoped>\n",
       "    .dataframe tbody tr th:only-of-type {\n",
       "        vertical-align: middle;\n",
       "    }\n",
       "\n",
       "    .dataframe tbody tr th {\n",
       "        vertical-align: top;\n",
       "    }\n",
       "\n",
       "    .dataframe thead th {\n",
       "        text-align: right;\n",
       "    }\n",
       "</style>\n",
       "<table border=\"1\" class=\"dataframe\">\n",
       "  <thead>\n",
       "    <tr style=\"text-align: right;\">\n",
       "      <th></th>\n",
       "      <th>Logistic Regression</th>\n",
       "      <th>Decision Tree</th>\n",
       "      <th>Random Tree</th>\n",
       "      <th>SVM</th>\n",
       "      <th>Naive Bayes</th>\n",
       "    </tr>\n",
       "  </thead>\n",
       "  <tbody>\n",
       "    <tr>\n",
       "      <th>precision</th>\n",
       "      <td>0.451824</td>\n",
       "      <td>0.404218</td>\n",
       "      <td>0.404218</td>\n",
       "      <td>0.439879</td>\n",
       "      <td>0.371350</td>\n",
       "    </tr>\n",
       "    <tr>\n",
       "      <th>recall</th>\n",
       "      <td>0.522644</td>\n",
       "      <td>0.402693</td>\n",
       "      <td>0.402693</td>\n",
       "      <td>0.514076</td>\n",
       "      <td>0.439412</td>\n",
       "    </tr>\n",
       "    <tr>\n",
       "      <th>f_score</th>\n",
       "      <td>0.480339</td>\n",
       "      <td>0.402717</td>\n",
       "      <td>0.402717</td>\n",
       "      <td>0.469878</td>\n",
       "      <td>0.397785</td>\n",
       "    </tr>\n",
       "    <tr>\n",
       "      <th>accuracy</th>\n",
       "      <td>0.522644</td>\n",
       "      <td>0.402693</td>\n",
       "      <td>0.402693</td>\n",
       "      <td>0.514076</td>\n",
       "      <td>0.439412</td>\n",
       "    </tr>\n",
       "    <tr>\n",
       "      <th>auc</th>\n",
       "      <td>1.000000</td>\n",
       "      <td>1.000000</td>\n",
       "      <td>1.000000</td>\n",
       "      <td>1.000000</td>\n",
       "      <td>1.000000</td>\n",
       "    </tr>\n",
       "  </tbody>\n",
       "</table>\n",
       "</div>"
      ],
      "text/plain": [
       "           Logistic Regression  Decision Tree  Random Tree       SVM  \\\n",
       "precision             0.451824       0.404218     0.404218  0.439879   \n",
       "recall                0.522644       0.402693     0.402693  0.514076   \n",
       "f_score               0.480339       0.402717     0.402717  0.469878   \n",
       "accuracy              0.522644       0.402693     0.402693  0.514076   \n",
       "auc                   1.000000       1.000000     1.000000  1.000000   \n",
       "\n",
       "           Naive Bayes  \n",
       "precision     0.371350  \n",
       "recall        0.439412  \n",
       "f_score       0.397785  \n",
       "accuracy      0.439412  \n",
       "auc           1.000000  "
      ]
     },
     "execution_count": 28,
     "metadata": {},
     "output_type": "execute_result"
    }
   ],
   "source": [
    "# Combine all results into a data frame.\n",
    "metric_summary = pd.concat([LR_metric, DT_metric, RF_metric, SVM_metric, NB_metric], axis=1)\n",
    "metric_summary"
   ]
  },
  {
   "cell_type": "code",
   "execution_count": 29,
   "id": "c2420c6c",
   "metadata": {},
   "outputs": [
    {
     "name": "stdout",
     "output_type": "stream",
     "text": [
      "Logistic Regression has highest precision of 0.4518242506682286\n",
      "Logistic Regression has highest recall of 0.5226438188494492\n",
      "Logistic Regression has highest f_score of 0.4803390060659115\n",
      "Logistic Regression has highest accuracy of 0.5226438188494492\n",
      "Logistic Regression has highest auc of 1.0\n"
     ]
    }
   ],
   "source": [
    "for row in metric_summary.index:\n",
    "    model = metric_summary.loc[row].idxmax()\n",
    "    max_value = metric_summary.loc[row].max()\n",
    "    \n",
    "    print(f\"{model} has highest {row} of {max_value}\")\n"
   ]
  },
  {
   "cell_type": "markdown",
   "id": "515ea6be",
   "metadata": {},
   "source": [
    "## Conclusion\n",
    "1. As per table above, results have been disappointing:\n",
    "    - F1 score is below 0.5 for all algorithms\n",
    "    - Accuracy is around 0.5, which is no different from random guessing\n",
    "    - AUC (Area Under Curve) is likely to be inaccurate given the poor F1 score and Accuracy\n",
    "    - Training results for decision trees and random tree classifier are identical.\n",
    "    - Logistic Regression has the highest precision, recall, f-score and accuracy among the 5 algorithm tested.\n",
    "2. This conclusion is inline with past experiment conducted by David Clark, Zoltan Schreter, Anthony Adams \"A Quantitative Comparison of Dystal and Backprogpagation\"\n",
    "    - Highest test performance result is 64%  based on 3133 training and 1044 testing.\n",
    "3. No further hypertuning are conducted since classification models seem to be inappropriate \n",
    "4. Possible solution:\n",
    "    - Reduce the number of classes to only 2 i.e. binary conditions e.g. More than 10 years old versus less than equal to 10 years old.\n",
    "    - Double number of iterations from standard 100 to 200 as logistic regression didn't manage to converge by the 100th iterations.\n",
    "    - Employ more advanced machine learning algorithms (like XGBoost) assuming that there are some relationship between physical measurements with age of abalone."
   ]
  }
 ],
 "metadata": {
  "kernelspec": {
   "display_name": "Python 3 (ipykernel)",
   "language": "python",
   "name": "python3"
  },
  "language_info": {
   "codemirror_mode": {
    "name": "ipython",
    "version": 3
   },
   "file_extension": ".py",
   "mimetype": "text/x-python",
   "name": "python",
   "nbconvert_exporter": "python",
   "pygments_lexer": "ipython3",
   "version": "3.8.13"
  }
 },
 "nbformat": 4,
 "nbformat_minor": 5
}

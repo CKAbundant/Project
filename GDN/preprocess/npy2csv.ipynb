{
 "cells": [
  {
   "cell_type": "markdown",
   "id": "0b7aace2",
   "metadata": {},
   "source": [
    "# Load Libraries"
   ]
  },
  {
   "cell_type": "code",
   "execution_count": 1,
   "id": "76591fe5",
   "metadata": {},
   "outputs": [],
   "source": [
    "import numpy as np\n",
    "import pandas as pd\n",
    "import json\n",
    "from pathlib import Path\n",
    "import time"
   ]
  },
  {
   "cell_type": "markdown",
   "id": "d1459d03",
   "metadata": {},
   "source": [
    "# Combine all npy files to original csv file"
   ]
  },
  {
   "cell_type": "markdown",
   "id": "5b4e9b4c",
   "metadata": {},
   "source": [
    "## <font color='red'>Credit</font>"
   ]
  },
  {
   "cell_type": "code",
   "execution_count": 36,
   "id": "75bd7d39",
   "metadata": {},
   "outputs": [
    {
     "data": {
      "text/plain": [
       "8.860053539276123"
      ]
     },
     "execution_count": 36,
     "metadata": {},
     "output_type": "execute_result"
    }
   ],
   "source": [
    "start_time = time.time()\n",
    "path_credit = Path.cwd().joinpath('credit')\n",
    "\n",
    "# Obtain column names from list.json\n",
    "path_list = path_credit.joinpath('npy', 'list.json')\n",
    "with open(path_list, 'r') as f:\n",
    "    col_names = json.load(f)\n",
    "\n",
    "# Save all npy file info to data dictionary\n",
    "data = {}\n",
    "\n",
    "for col in col_names:\n",
    "    file_path = path_credit.joinpath('npy', f\"{col}.npy\")\n",
    "    data[col] = np.load(file_path).tolist()\n",
    "    \n",
    "# Convert data dictionary to dataframe\n",
    "df = pd.DataFrame(data)\n",
    "df.to_csv(path_credit.joinpath('creditcard.csv'), index=False)\n",
    "\n",
    "time_credit = time.time() - start_time\n",
    "time_credit"
   ]
  },
  {
   "cell_type": "markdown",
   "id": "061ea405",
   "metadata": {},
   "source": [
    "## <font color='red'>SWaT</font>"
   ]
  },
  {
   "cell_type": "code",
   "execution_count": 40,
   "id": "5ac430ea",
   "metadata": {},
   "outputs": [],
   "source": [
    "start_time = time.time()\n",
    "path_swat = Path.cwd().joinpath('swat')\n",
    "start_time = time.time()\n",
    "\n",
    "for dataset in ['train', 'test']:\n",
    "    path_list = path_swat.joinpath(dataset, 'list.json')\n",
    "    with open(path_list, 'r') as f:\n",
    "        col_names = json.load(f)\n",
    "\n",
    "    # Save all npy file info to data dictionary\n",
    "    data = {}\n",
    "\n",
    "    for col in col_names:\n",
    "        file_path = path_swat.joinpath(dataset, f\"{col}.npy\")\n",
    "        data[col] = np.load(file_path, allow_pickle=True).tolist()\n",
    "        \n",
    "    # Save as csv file\n",
    "    df = pd.DataFrame(data)\n",
    "    path = path_swat.joinpath(f\"swat_{dataset}.csv\")\n",
    "    df.to_csv(path, index=False)\n",
    "    \n",
    "time_swat = time.time() - start_time\n",
    "time_swat"
   ]
  },
  {
   "cell_type": "code",
   "execution_count": null,
   "id": "fb70b39f",
   "metadata": {},
   "outputs": [],
   "source": []
  }
 ],
 "metadata": {
  "kernelspec": {
   "display_name": "Python 3 (ipykernel)",
   "language": "python",
   "name": "python3"
  },
  "language_info": {
   "codemirror_mode": {
    "name": "ipython",
    "version": 3
   },
   "file_extension": ".py",
   "mimetype": "text/x-python",
   "name": "python",
   "nbconvert_exporter": "python",
   "pygments_lexer": "ipython3",
   "version": "3.8.13"
  },
  "vscode": {
   "interpreter": {
    "hash": "9650cb4e16cdd4a8e8e2d128bf38d875813998db22a3c986335f89e0cb4d7bb2"
   }
  }
 },
 "nbformat": 4,
 "nbformat_minor": 5
}

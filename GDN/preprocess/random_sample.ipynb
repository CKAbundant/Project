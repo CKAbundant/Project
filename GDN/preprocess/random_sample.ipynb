{
 "cells": [
  {
   "cell_type": "markdown",
   "id": "559f4223",
   "metadata": {},
   "source": [
    "# Load Libaries"
   ]
  },
  {
   "cell_type": "code",
   "execution_count": 1,
   "id": "99248bdf",
   "metadata": {},
   "outputs": [],
   "source": [
    "import pandas as pd\n",
    "import numpy as np\n",
    "from pathlib import Path\n",
    "import shutil"
   ]
  },
  {
   "cell_type": "markdown",
   "id": "6a3e158c",
   "metadata": {},
   "source": [
    "# Function Definition"
   ]
  },
  {
   "cell_type": "code",
   "execution_count": 4,
   "id": "ba1b12e3",
   "metadata": {},
   "outputs": [],
   "source": [
    "def sampling(dataset, percent, choice=None):\n",
    "    \"\"\"\n",
    "    Randomly remove items from dataset based on percentage provided\n",
    "    \"\"\"\n",
    "    \n",
    "    # Choose only train.csv to sample\n",
    "    if choice == None:\n",
    "        df_train, dir_name = read_sample(dataset, percent, 'train.csv', choice)\n",
    "        \n",
    "        # Read test.csv\n",
    "        path = Path.cwd().joinpath('processed', dataset, 'test.csv')\n",
    "        df_test = pd.read_csv(path, header=0)\n",
    "    \n",
    "        # Copy test.csv (i.e. unsampled) and list.txt to new directories\n",
    "        for file in ['test.csv', 'list.txt']:\n",
    "            copy_file(dataset, dir_name, file)\n",
    "        \n",
    "    # Choose both train.csv and test.csv to sample\n",
    "    else:\n",
    "        df_train, dir_name = read_sample(dataset, percent, 'train.csv', choice)\n",
    "        df_test, _ = read_sample(dataset, percent, 'test.csv', choice)\n",
    "        \n",
    "        # Copy list.txt to new directories\n",
    "        copy_file(dataset, dir_name, 'list.txt')    \n",
    "    \n",
    "    return df_train, df_test\n",
    "\n",
    "\n",
    "\n",
    "def read_sample(dataset, percent, file, choice):\n",
    "    \"\"\"\n",
    "    Read and sample dataset based on allocated percent\n",
    "    Save sampled dataset in correct directory\n",
    "    \"\"\"\n",
    "    \n",
    "    # Read original file\n",
    "    file_path = Path.cwd().joinpath('processed', dataset, file)\n",
    "    df = pd.read_csv(file_path, header=0)\n",
    "    size = len(df)\n",
    "    \n",
    "    # Create directories to save randomly sampled train data\n",
    "    if choice == None:\n",
    "        dir_name = f\"{dataset}_{int(percent)}\"\n",
    "    else:\n",
    "        dir_name = f\"{dataset}_{choice}_{percent}\"\n",
    "        \n",
    "    path = Path.cwd().joinpath('processed', dir_name)\n",
    "    \n",
    "    if not path.is_dir():\n",
    "        path.mkdir(parents=True)\n",
    "    \n",
    "    # Randomly sample train data\n",
    "    num_data = int(round(percent/100 * size, 0))\n",
    "    index = sorted(np.random.choice(size, num_data, replace=False))\n",
    "    df_sample = df.loc[index, :].reset_index(drop=True)\n",
    "    \n",
    "    # Print sampling percentage and size of data sample\n",
    "    print(f\"Sampling percentage and sample size ({dataset}, {file+')':<10} : {str(percent)+'%,':<5} {len(df_sample)}\")\n",
    "    \n",
    "    # Save train data as train.csv in respective directories\n",
    "    df_sample.to_csv(path.joinpath(file), index=False)  \n",
    "    \n",
    "    return df_sample, dir_name\n",
    "    \n",
    "\n",
    "\n",
    "def copy_file(old, new, file):\n",
    "    \"\"\"\n",
    "    Copy file from old folder to new folder\n",
    "    \"\"\"\n",
    "    \n",
    "    old_path = Path.cwd().joinpath('processed', old, file)\n",
    "    new_path = Path.cwd().joinpath('processed', new, file)\n",
    "    \n",
    "    shutil.copy(old_path, new_path)\n",
    "    "
   ]
  },
  {
   "cell_type": "markdown",
   "id": "c43cdb65",
   "metadata": {},
   "source": [
    "# Generate Sampled SWaT\n",
    "* swat = Only train data is sampled. Original test data is intact.\n",
    "* swat_all = Both train and test data sampled at the assigned percentage."
   ]
  },
  {
   "cell_type": "code",
   "execution_count": 5,
   "id": "01b05355",
   "metadata": {},
   "outputs": [
    {
     "name": "stdout",
     "output_type": "stream",
     "text": [
      "Sampling percentage and sample size (swat, train.csv) : 10%,  4752\n",
      "Sampling percentage and sample size (swat, train.csv) : 30%,  14256\n",
      "Sampling percentage and sample size (swat, train.csv) : 50%,  23760\n",
      "Sampling percentage and sample size (swat, train.csv) : 70%,  33264\n",
      "Sampling percentage and sample size (swat, train.csv) : 90%,  42768\n",
      "Sampling percentage and sample size (swat, train.csv) : 10%,  4752\n",
      "Sampling percentage and sample size (swat, test.csv)  : 10%,  4499\n",
      "Sampling percentage and sample size (swat, train.csv) : 30%,  14256\n",
      "Sampling percentage and sample size (swat, test.csv)  : 30%,  13497\n",
      "Sampling percentage and sample size (swat, train.csv) : 50%,  23760\n",
      "Sampling percentage and sample size (swat, test.csv)  : 50%,  22496\n",
      "Sampling percentage and sample size (swat, train.csv) : 70%,  33264\n",
      "Sampling percentage and sample size (swat, test.csv)  : 70%,  31494\n",
      "Sampling percentage and sample size (swat, train.csv) : 90%,  42768\n",
      "Sampling percentage and sample size (swat, test.csv)  : 90%,  40492\n"
     ]
    }
   ],
   "source": [
    "sample = {}\n",
    "dataset = 'swat'\n",
    "\n",
    "for choice in [None, 'all']:\n",
    "    for sample_percent in [10, 30, 50, 70, 90]:\n",
    "        df_temp = sampling(dataset, sample_percent, choice)\n",
    "        key = f\"{dataset}_{int(sample_percent*100)}\"\n",
    "        sample[key] = df_temp\n",
    "    "
   ]
  },
  {
   "cell_type": "code",
   "execution_count": null,
   "id": "470269e6",
   "metadata": {},
   "outputs": [],
   "source": []
  }
 ],
 "metadata": {
  "kernelspec": {
   "display_name": "Python 3 (ipykernel)",
   "language": "python",
   "name": "python3"
  },
  "language_info": {
   "codemirror_mode": {
    "name": "ipython",
    "version": 3
   },
   "file_extension": ".py",
   "mimetype": "text/x-python",
   "name": "python",
   "nbconvert_exporter": "python",
   "pygments_lexer": "ipython3",
   "version": "3.8.13"
  }
 },
 "nbformat": 4,
 "nbformat_minor": 5
}

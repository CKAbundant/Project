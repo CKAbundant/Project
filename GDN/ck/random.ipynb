{
 "cells": [
  {
   "cell_type": "code",
   "execution_count": 1,
   "id": "99248bdf",
   "metadata": {},
   "outputs": [],
   "source": [
    "import pandas as pd\n",
    "import numpy as np\n",
    "from pathlib import Path\n",
    "import shutil"
   ]
  },
  {
   "cell_type": "code",
   "execution_count": 2,
   "id": "ba1b12e3",
   "metadata": {},
   "outputs": [],
   "source": [
    "def sampling(dataset, percent):\n",
    "    \"\"\"\n",
    "    Randomly remove items from dataset based on percentage provided\n",
    "    Create test dataset that is sampled at the same rate as train data\n",
    "    Copy sampled train dataset\n",
    "    \"\"\"\n",
    "    # Read sampled train dataset\n",
    "    ori = f\"{dataset}_{percent}\"\n",
    "    path = Path.cwd().joinpath('data', ori, 'train.csv')\n",
    "    df_train = pd.read_csv(path, header=0)\n",
    "    \n",
    "    # Sample test.csv at same rate\n",
    "    df_test, dir_name = read_sample(dataset, percent, 'test.csv')\n",
    "    \n",
    "    # Copy train.csv and list.txt\n",
    "    for file in ['train.csv', 'list.txt']:\n",
    "        copy_file(ori, dir_name, file)\n",
    "\n",
    "    return df_train, df_test\n",
    "\n",
    "\n",
    "\n",
    "def read_sample(dataset, percent, file):\n",
    "    \"\"\"\n",
    "    Read and sample dataset based on allocated percent\n",
    "    Save sampled dataset in correct directory\n",
    "    \"\"\"\n",
    "    \n",
    "    # Read original file\n",
    "    file_path = Path.cwd().joinpath('data', dataset, file)\n",
    "    df = pd.read_csv(file_path, header=0)\n",
    "    size = len(df)\n",
    "    \n",
    "    # Create directories to save randomly sampled train data\n",
    "    dir_name = f\"{dataset}_all_{percent}\"\n",
    "        \n",
    "    path = Path.cwd().joinpath('data', dir_name)\n",
    "    \n",
    "    if not path.is_dir():\n",
    "        path.mkdir(parents=True)\n",
    "    \n",
    "    # Randomly sample train data\n",
    "    num_data = int(round(percent/100 * size, 0))\n",
    "    index = sorted(np.random.choice(size, num_data, replace=False))\n",
    "    df_sample = df.loc[index, :].reset_index(drop=True)\n",
    "    \n",
    "    # Print sampling percentage and size of data sample\n",
    "    print(f\"Sampling percentage and sample size ({dataset}, {file+')':<10} : {str(percent)+'%,':<5} {len(df_sample)}\")\n",
    "    \n",
    "    # Save train data as train.csv in respective directories\n",
    "    df_sample.to_csv(path.joinpath(file), index=False)  \n",
    "    \n",
    "    return df_sample, dir_name\n",
    "\n",
    "\n",
    "\n",
    "def copy_file(old, new, file):\n",
    "    \"\"\"\n",
    "    Copy file from old folder to new folder\n",
    "    \"\"\"\n",
    "    \n",
    "    old_path = Path.cwd().joinpath('data', old, file)\n",
    "    new_path = Path.cwd().joinpath('data', new, file)\n",
    "    \n",
    "    shutil.copy(old_path, new_path)\n",
    "    "
   ]
  },
  {
   "cell_type": "code",
   "execution_count": 4,
   "id": "01b05355",
   "metadata": {},
   "outputs": [
    {
     "name": "stdout",
     "output_type": "stream",
     "text": [
      "Sampling percentage and sample size (msl_m, test.csv)  : 30%,  22119\n",
      "Sampling percentage and sample size (msl_m, test.csv)  : 70%,  51610\n",
      "Sampling percentage and sample size (msl_m, test.csv)  : 90%,  66356\n",
      "Sampling percentage and sample size (msl_tel, test.csv)  : 30%,  1830\n",
      "Sampling percentage and sample size (msl_tel, test.csv)  : 70%,  4270\n",
      "Sampling percentage and sample size (msl_tel, test.csv)  : 90%,  5490\n",
      "Sampling percentage and sample size (msl_tel_m, test.csv)  : 30%,  1830\n",
      "Sampling percentage and sample size (msl_tel_m, test.csv)  : 70%,  4270\n",
      "Sampling percentage and sample size (msl_tel_m, test.csv)  : 90%,  5490\n",
      "Sampling percentage and sample size (smap_m, test.csv)  : 30%,  128285\n",
      "Sampling percentage and sample size (smap_m, test.csv)  : 70%,  299332\n",
      "Sampling percentage and sample size (smap_m, test.csv)  : 90%,  384855\n",
      "Sampling percentage and sample size (smap_tel, test.csv)  : 30%,  2592\n",
      "Sampling percentage and sample size (smap_tel, test.csv)  : 70%,  6048\n",
      "Sampling percentage and sample size (smap_tel, test.csv)  : 90%,  7776\n",
      "Sampling percentage and sample size (smap_tel_m, test.csv)  : 30%,  2592\n",
      "Sampling percentage and sample size (smap_tel_m, test.csv)  : 70%,  6048\n",
      "Sampling percentage and sample size (smap_tel_m, test.csv)  : 90%,  7776\n",
      "Sampling percentage and sample size (swat, test.csv)  : 30%,  13497\n",
      "Sampling percentage and sample size (swat, test.csv)  : 70%,  31494\n",
      "Sampling percentage and sample size (swat, test.csv)  : 90%,  40492\n",
      "Sampling percentage and sample size (swat_ori, test.csv)  : 30%,  134976\n",
      "Sampling percentage and sample size (swat_ori, test.csv)  : 70%,  314943\n",
      "Sampling percentage and sample size (swat_ori, test.csv)  : 90%,  404927\n"
     ]
    }
   ],
   "source": [
    "sample = {}\n",
    "sample_percent = 10\n",
    "\n",
    "# Generate sampling size 30%, 70% and 90% of dataset\n",
    "# where both train and test data are randomly sampled\n",
    "\n",
    "datasets = [\n",
    "    'msl_m', 'msl_tel', 'msl_tel_m',\n",
    "    'smap_m', 'smap_tel', 'smap_tel_m',\n",
    "    'swat', 'swat_ori'\n",
    "]\n",
    "\n",
    "for dataset in datasets:\n",
    "    for sample_percent in [30, 70, 90]:\n",
    "        \n",
    "        # Generate sample\n",
    "        df_temp = sampling(dataset, sample_percent)\n",
    "        key = f\"{dataset}_all_{sample_percent}\"\n",
    "        sample[key] = df_temp\n",
    "    "
   ]
  },
  {
   "cell_type": "code",
   "execution_count": 3,
   "id": "470269e6",
   "metadata": {},
   "outputs": [
    {
     "name": "stdout",
     "output_type": "stream",
     "text": [
      "Sampling percentage and sample size (swat_ori, test.csv)  : 70%,  314943\n"
     ]
    }
   ],
   "source": [
    "tr, ts = sampling('swat_ori', 70)"
   ]
  },
  {
   "cell_type": "code",
   "execution_count": 7,
   "id": "ab719b3b",
   "metadata": {},
   "outputs": [
    {
     "name": "stdout",
     "output_type": "stream",
     "text": [
      "msl_m           :       True\n",
      "msl_tel         :       True\n",
      "msl_tel_m       :       True\n",
      "smap_m          :       True\n",
      "smap_tel        :       True\n",
      "smap_tel_m      :       True\n",
      "swat            :       True\n",
      "swat_ori        :       True\n"
     ]
    }
   ],
   "source": [
    "datasets = [\n",
    "    'msl_m', 'msl_tel', 'msl_tel_m',\n",
    "    'smap_m', 'smap_tel', 'smap_tel_m',\n",
    "    'swat', 'swat_ori'\n",
    "]\n",
    "\n",
    "percent = 90\n",
    "\n",
    "for dataset in datasets:\n",
    "    d1 = dataset+'_all_'+str(percent)\n",
    "    d2 = dataset+'_'+str(percent)\n",
    "\n",
    "    path_d1 = Path.cwd().joinpath('data', d1, 'train.csv')\n",
    "    path_d2 = Path.cwd().joinpath('data', d2, 'train.csv')\n",
    "\n",
    "    df1 = pd.read_csv(path_d1, header=0)\n",
    "    df2 = pd.read_csv(path_d2, header=0)\n",
    "\n",
    "    print(f\"{dataset:<15} : {str(df1.equals(df2)):>10}\")"
   ]
  },
  {
   "cell_type": "code",
   "execution_count": null,
   "id": "cfe9a83b",
   "metadata": {},
   "outputs": [],
   "source": []
  }
 ],
 "metadata": {
  "kernelspec": {
   "display_name": "Python 3 (ipykernel)",
   "language": "python",
   "name": "python3"
  },
  "language_info": {
   "codemirror_mode": {
    "name": "ipython",
    "version": 3
   },
   "file_extension": ".py",
   "mimetype": "text/x-python",
   "name": "python",
   "nbconvert_exporter": "python",
   "pygments_lexer": "ipython3",
   "version": "3.8.13"
  }
 },
 "nbformat": 4,
 "nbformat_minor": 5
}
